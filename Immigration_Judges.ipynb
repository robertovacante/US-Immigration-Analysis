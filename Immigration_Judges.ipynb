{
 "cells": [
  {
   "cell_type": "code",
   "execution_count": 1,
   "id": "b44f919c-798f-4183-9965-f42ecd5afeaa",
   "metadata": {},
   "outputs": [],
   "source": [
    "import requests\n",
    "from bs4 import BeautifulSoup\n",
    "import pandas as pd\n",
    "import re"
   ]
  },
  {
   "cell_type": "code",
   "execution_count": 2,
   "id": "597239f7-d0b7-4aaf-879f-dec5618f53bc",
   "metadata": {},
   "outputs": [],
   "source": [
    "# Base URL of the website\n",
    "base_url = \"https://trac.syr.edu/immigration/reports/judgereports/\""
   ]
  },
  {
   "cell_type": "code",
   "execution_count": 3,
   "id": "f105ba05-6f25-4ac2-a89b-eadef2d1636b",
   "metadata": {},
   "outputs": [],
   "source": [
    "# URL of the main page containing the table\n",
    "url = \"https://trac.syr.edu/immigration/reports/judgereports/\""
   ]
  },
  {
   "cell_type": "code",
   "execution_count": 4,
   "id": "de04815a-7000-4010-b4c3-88f6b0cf6d70",
   "metadata": {},
   "outputs": [],
   "source": [
    "# President and party mapping based on years\n",
    "president_party_mapping = {\n",
    "    (2021, 2024): (\"Joe Biden\", \"Democrat\"),\n",
    "    (2017, 2020): (\"Donald Trump\", \"Republican\"),\n",
    "    (2009, 2016): (\"Barack Obama\", \"Democrat\"),\n",
    "    (2001, 2008): (\"George W. Bush\", \"Republican\"),\n",
    "    (1993, 2000): (\"Bill Clinton\", \"Democrat\"),\n",
    "    (1989, 1992): (\"George H. W. Bush\", \"Republican\"),\n",
    "    (1981, 1988): (\"Ronald Reagan\", \"Republican\"),\n",
    "    (1977, 1980): (\"Jimmy Carter\", \"Democrat\"),\n",
    "    (1974, 1976): (\"Gerald Ford\", \"Republican\"),\n",
    "    (1969, 1974): (\"Richard Nixon\", \"Republican\"),\n",
    "    (1963, 1968): (\"Lyndon B. Johnson\", \"Democrat\"),\n",
    "    (1961, 1963): (\"John F. Kennedy\", \"Democrat\"),\n",
    "    # Add more as needed, or update with earlier years\n",
    "}\n",
    "\n",
    "# Function to determine the president and party based on the appointment year\n",
    "def get_president_and_party(year):\n",
    "    year = int(year)\n",
    "    for years, (president, party) in president_party_mapping.items():\n",
    "        if years[0] <= year <= years[1]:\n",
    "            return president, party\n",
    "    return None, None"
   ]
  },
  {
   "cell_type": "code",
   "execution_count": 5,
   "id": "4022ee01-bfac-4e50-9091-de83032daa76",
   "metadata": {},
   "outputs": [],
   "source": [
    "# Send a GET request to fetch the content of the page\n",
    "response = requests.get(url)\n",
    "response.raise_for_status()  # Ensure the request was successful"
   ]
  },
  {
   "cell_type": "code",
   "execution_count": 6,
   "id": "a6f81309-33ec-472a-b67d-6947a7c1fe88",
   "metadata": {},
   "outputs": [],
   "source": [
    "# Parse the page content using BeautifulSoup\n",
    "soup = BeautifulSoup(response.text, 'html.parser')"
   ]
  },
  {
   "cell_type": "code",
   "execution_count": 7,
   "id": "884f7557-9ad1-4fca-929a-9f069d81e941",
   "metadata": {},
   "outputs": [],
   "source": [
    "# Find the main table\n",
    "table = soup.find('table')"
   ]
  },
  {
   "cell_type": "code",
   "execution_count": 8,
   "id": "1b1ac6ce-6217-4d07-a0a8-7f06bdfa72d4",
   "metadata": {},
   "outputs": [],
   "source": [
    "# Initialize variables\n",
    "data = []\n",
    "current_court = \"\"\n",
    "rowspan_counter = 0"
   ]
  },
  {
   "cell_type": "code",
   "execution_count": 9,
   "id": "d0843d58-7a67-49c9-9a48-5755ac857f05",
   "metadata": {},
   "outputs": [],
   "source": [
    "# Loop through each row in the table\n",
    "for row in table.find_all('tr'):\n",
    "    cols = row.find_all('td')\n",
    "    \n",
    "    # Continue only if the row has columns (i.e., it's not empty)\n",
    "    if len(cols) > 0:\n",
    "        # If a row contains the \"rowspan\" attribute, it's the start of a new Immigration Court\n",
    "        if 'rowspan' in cols[0].attrs:\n",
    "            current_court = cols[0].get_text(strip=True)\n",
    "            rowspan_counter = int(cols[0]['rowspan'])  # Number of rows this court spans\n",
    "            \n",
    "            # Ensure that there are enough columns before accessing\n",
    "            if len(cols) >= 6:\n",
    "                judge = cols[1].get_text(strip=True)\n",
    "                judge_link = cols[1].find('a')['href'] if cols[1].find('a') else None\n",
    "                total_decisions = cols[2].get_text(strip=True)\n",
    "                percent_granted_asylum = cols[3].get_text(strip=True)\n",
    "                percent_granted_other = cols[4].get_text(strip=True)\n",
    "                percent_denied = cols[5].get_text(strip=True)\n",
    "            else:\n",
    "                continue  # Skip row if it doesn't have the expected number of columns\n",
    "        else:\n",
    "            # If it's a continuation row (not a new court), ensure there are enough columns\n",
    "            if len(cols) >= 5:\n",
    "                judge = cols[0].get_text(strip=True)\n",
    "                judge_link = cols[0].find('a')['href'] if cols[0].find('a') else None\n",
    "                total_decisions = cols[1].get_text(strip=True)\n",
    "                percent_granted_asylum = cols[2].get_text(strip=True)\n",
    "                percent_granted_other = cols[3].get_text(strip=True)\n",
    "                percent_denied = cols[4].get_text(strip=True)\n",
    "            else:\n",
    "                continue  # Skip row if it doesn't have the expected number of columns\n",
    "        \n",
    "        # Decrement the rowspan counter\n",
    "        rowspan_counter -= 1\n",
    "        \n",
    "        # Initialize extracted data\n",
    "        appointment_year = None\n",
    "        juris_doctor_year = None\n",
    "        \n",
    "        # If there's a link to the judge's bio, extract additional data\n",
    "        if judge_link:\n",
    "            # Construct the full URL\n",
    "            judge_page_url = base_url + judge_link\n",
    "            judge_page = requests.get(judge_page_url)\n",
    "            judge_soup = BeautifulSoup(judge_page.text, 'html.parser')\n",
    "            \n",
    "            # Extract the paragraph at the specified XPath-like location\n",
    "            bio_paragraph = judge_soup.select_one(\"div div div p:nth-of-type(2)\")\n",
    "            if bio_paragraph:\n",
    "                # Extract the first year as the Appointment Date from this paragraph\n",
    "                year_match = re.findall(r'\\b(\\d{4})\\b', bio_paragraph.get_text())\n",
    "                if year_match:\n",
    "                    appointment_year = year_match[0]  # First year in this specific paragraph\n",
    "            \n",
    "            # Extract the Juris Doctor year (closest year to the word \"Juris\")\n",
    "            juris_match = re.search(r'Juris.*?(\\d{4})', judge_soup.get_text(), re.IGNORECASE)\n",
    "            if juris_match:\n",
    "                juris_doctor_year = juris_match.group(1)\n",
    "        \n",
    "        # Determine the president and party based on the appointment year\n",
    "        president, party = get_president_and_party(appointment_year) if appointment_year else (None, None)\n",
    "        \n",
    "        # Determine if the appointer was a Democrat\n",
    "        democrat_appointer = 1 if party == \"Democrat\" else 0\n",
    "        \n",
    "        # Append the data to the list\n",
    "        data.append([current_court, judge, total_decisions, percent_granted_asylum, \n",
    "                     percent_granted_other, percent_denied, appointment_year, \n",
    "                     juris_doctor_year, president, party, democrat_appointer])"
   ]
  },
  {
   "cell_type": "code",
   "execution_count": 10,
   "id": "1a984829-a4f6-43c5-96ff-825a88773840",
   "metadata": {},
   "outputs": [],
   "source": [
    "# Create a DataFrame from the collected data\n",
    "columns = [\"Immigration Court\", \"Judge\", \"Total Decisions\", \"% Granted Asylum\", \n",
    "           \"% Granted Other Relief\", \"% Denied\", \"Appointment Date\", \"Juris Doctor Year\",\n",
    "           \"Appointing President\", \"Party\", \"Democrat Appointer\"]\n",
    "df = pd.DataFrame(data, columns=columns)"
   ]
  },
  {
   "cell_type": "code",
   "execution_count": 11,
   "id": "1ce8ba45-534a-4680-9eba-e777fbf02f89",
   "metadata": {},
   "outputs": [
    {
     "name": "stdout",
     "output_type": "stream",
     "text": [
      "Data successfully scraped and saved to 'immigration_judges.csv'\n"
     ]
    }
   ],
   "source": [
    "# Save the DataFrame to a CSV file\n",
    "df.to_csv('immigration_judges.csv', index=False)\n",
    "\n",
    "print(\"Data successfully scraped and saved to 'immigration_judges.csv'\")"
   ]
  },
  {
   "cell_type": "code",
   "execution_count": 47,
   "id": "770f55c8-2d4c-4822-93d5-4a3f276dbf1f",
   "metadata": {},
   "outputs": [],
   "source": [
    "# 1. Import Data\n",
    "\n",
    "import pandas as pd\n",
    "import statsmodels.api as sm\n",
    "\n",
    "df = pd.read_csv('immigration_judges.csv')"
   ]
  },
  {
   "cell_type": "code",
   "execution_count": null,
   "id": "9453f214-b78c-4cb4-b760-353d42ab6111",
   "metadata": {},
   "outputs": [],
   "source": [
    "## MODELS"
   ]
  },
  {
   "cell_type": "code",
   "execution_count": 49,
   "id": "3a87d0bb-ccc3-4c5b-8ab0-168b74ef0ffb",
   "metadata": {},
   "outputs": [],
   "source": [
    "## 1. Impact of Judicial Factors on Denial Rate\n",
    "\n",
    "# Select the columns to include in X\n",
    "X = df[[\"% Granted Asylum\", \"% Granted Other Relief\", \"Democrat Appointer\",\n",
    "        \"Juris Doctor Year\", \"Appointing President\"]]\n",
    "\n",
    "# Convert categorical columns to dummy variables\n",
    "# Convert \"Democrat Appointer\" and \"Immigration Court\" to dummies\n",
    "X = pd.get_dummies(X, columns=[\"Democrat Appointer\", \"Appointing President\", ], drop_first=True)\n",
    "\n",
    "# Convert y to numeric, coercing errors to NaN\n",
    "y = pd.to_numeric(df[\"% Denied\"], errors='coerce')"
   ]
  },
  {
   "cell_type": "code",
   "execution_count": 53,
   "id": "97e9fd0a-2755-4faa-af9d-d9b29c886a81",
   "metadata": {},
   "outputs": [],
   "source": [
    "## 2. Effect of Appointment Factors on Asylum Grant Rates\n",
    "\n",
    "X = df[[\"Total Decisions\", \"% Granted Other Relief\", \"Juris Doctor Year\", \"Appointing President\", \"Party\", \"Democrat Appointer\"]]\n",
    "\n",
    "# Convert categorical columns to dummy variables\n",
    "X = pd.get_dummies(X, columns=[\"Democrat Appointer\", \"Appointing President\", \"Party\"], drop_first=True)\n",
    "\n",
    "# Ensure all data is numeric\n",
    "X = X.apply(pd.to_numeric, errors='coerce')\n",
    "y = pd.to_numeric(df[\"% Granted Asylum\"], errors='coerce')\n"
   ]
  },
  {
   "cell_type": "code",
   "execution_count": 61,
   "id": "203e47dd-0d42-4001-bfcf-40088357cee2",
   "metadata": {},
   "outputs": [],
   "source": [
    "## 3. Impact of Judicial and Appointment Factors on Granting Other Relief\n",
    "\n",
    "X = df[[\"Total Decisions\", \"% Granted Asylum\", \"% Denied\", \"Juris Doctor Year\", \"Appointing President\", \"Party\"]]\n",
    "\n",
    "# Convert categorical columns to dummy variables\n",
    "X = pd.get_dummies(X, columns=[\"Appointing President\", \"Party\"], drop_first=True)\n",
    "\n",
    "# Ensure all data is numeric\n",
    "X = X.apply(pd.to_numeric, errors='coerce')\n",
    "y = pd.to_numeric(df[\"% Granted Other Relief\"], errors='coerce')"
   ]
  },
  {
   "cell_type": "code",
   "execution_count": 65,
   "id": "02eabde6-1efd-49c3-b8d5-3c8e1859b18f",
   "metadata": {},
   "outputs": [],
   "source": [
    "## 4. Judicial Decisions Analysis by Judge and Court\n",
    "\n",
    "X = df[[\"Total Decisions\", \"% Granted Asylum\", \"% Granted Other Relief\", \"Juris Doctor Year\", \"Democrat Appointer\"]]\n",
    "\n",
    "# Convert categorical columns to dummy variables\n",
    "X = pd.get_dummies(X, columns=[\"Democrat Appointer\"], drop_first=True)\n",
    "\n",
    "# Ensure all data is numeric\n",
    "X = X.apply(pd.to_numeric, errors='coerce')\n",
    "y = pd.to_numeric(df[\"Total Decisions\"], errors='coerce')"
   ]
  },
  {
   "cell_type": "code",
   "execution_count": null,
   "id": "f1113fdf-b941-4f3d-be68-76ac802a91fd",
   "metadata": {},
   "outputs": [],
   "source": [
    "## ANALYSIS"
   ]
  },
  {
   "cell_type": "code",
   "execution_count": 67,
   "id": "5d5da2e2-204d-48b6-825a-4555498a98aa",
   "metadata": {},
   "outputs": [
    {
     "name": "stdout",
     "output_type": "stream",
     "text": [
      "                            OLS Regression Results                            \n",
      "==============================================================================\n",
      "Dep. Variable:        Total Decisions   R-squared:                       1.000\n",
      "Model:                            OLS   Adj. R-squared:                  1.000\n",
      "Method:                 Least Squares   F-statistic:                 2.497e+30\n",
      "Date:                Sun, 18 Aug 2024   Prob (F-statistic):               0.00\n",
      "Time:                        17:38:04   Log-Likelihood:                 13727.\n",
      "No. Observations:                 539   AIC:                        -2.744e+04\n",
      "Df Residuals:                     533   BIC:                        -2.742e+04\n",
      "Df Model:                           5                                         \n",
      "Covariance Type:            nonrobust                                         \n",
      "==========================================================================================\n",
      "                             coef    std err          t      P>|t|      [0.025      0.975]\n",
      "------------------------------------------------------------------------------------------\n",
      "const                   1.136e-12   2.07e-11      0.055      0.956   -3.95e-11    4.18e-11\n",
      "Total Decisions            1.0000    2.9e-16   3.45e+15      0.000       1.000       1.000\n",
      "% Granted Asylum        8.006e-16   3.69e-15      0.217      0.829   -6.46e-15    8.06e-15\n",
      "% Granted Other Relief -3.015e-15   2.99e-14     -0.101      0.920   -6.18e-14    5.57e-14\n",
      "Juris Doctor Year       7.826e-16   1.04e-14      0.075      0.940   -1.96e-14    2.12e-14\n",
      "Democrat Appointer_1   -1.222e-13   1.83e-13     -0.668      0.504   -4.82e-13    2.37e-13\n",
      "==============================================================================\n",
      "Omnibus:                      212.593   Durbin-Watson:                   0.094\n",
      "Prob(Omnibus):                  0.000   Jarque-Bera (JB):              697.654\n",
      "Skew:                           1.892   Prob(JB):                    3.21e-152\n",
      "Kurtosis:                       7.093   Cond. No.                     4.63e+05\n",
      "==============================================================================\n",
      "\n",
      "Notes:\n",
      "[1] Standard Errors assume that the covariance matrix of the errors is correctly specified.\n",
      "[2] The condition number is large, 4.63e+05. This might indicate that there are\n",
      "strong multicollinearity or other numerical problems.\n"
     ]
    }
   ],
   "source": [
    "\n",
    "# 2. Ensure All Data is Numeric\n",
    "\n",
    "# Convert all columns in X to numeric, coercing errors to NaN\n",
    "X = X.apply(pd.to_numeric, errors='coerce')\n",
    "\n",
    "\n",
    "# Drop any rows with NaN values in X or y to ensure clean data\n",
    "X = X.dropna()\n",
    "y = y.loc[X.index]  # Align y with the cleaned X\n",
    "\n",
    "# 3. Convert Boolean Columns to Integers (if applicable)\n",
    "\n",
    "# Convert boolean columns in X to integers (0 and 1)\n",
    "X = X.astype(int)\n",
    "\n",
    "# 4. Add a Constant Term to the Model\n",
    "\n",
    "# Add a constant term (intercept) to the model\n",
    "X = sm.add_constant(X)\n",
    "\n",
    "# 5. Fit the OLS Regression Model\n",
    "\n",
    "# Fit the OLS model\n",
    "model = sm.OLS(y, X).fit()\n",
    "\n",
    "# 6. Print the Summary of the Regression\n",
    "\n",
    "# Output the regression results summary\n",
    "print(model.summary())\n",
    "\n"
   ]
  },
  {
   "cell_type": "code",
   "execution_count": null,
   "id": "a3b6c23e-4e8a-4f80-806f-a47b53e79df9",
   "metadata": {},
   "outputs": [],
   "source": []
  }
 ],
 "metadata": {
  "kernelspec": {
   "display_name": "Python 3 (ipykernel)",
   "language": "python",
   "name": "python3"
  },
  "language_info": {
   "codemirror_mode": {
    "name": "ipython",
    "version": 3
   },
   "file_extension": ".py",
   "mimetype": "text/x-python",
   "name": "python",
   "nbconvert_exporter": "python",
   "pygments_lexer": "ipython3",
   "version": "3.12.4"
  }
 },
 "nbformat": 4,
 "nbformat_minor": 5
}
